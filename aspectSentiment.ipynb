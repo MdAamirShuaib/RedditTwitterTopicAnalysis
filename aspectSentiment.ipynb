{
 "cells": [
  {
   "cell_type": "code",
   "execution_count": 6,
   "metadata": {},
   "outputs": [
    {
     "name": "stderr",
     "output_type": "stream",
     "text": [
      "Traceback (most recent call last):\n",
      "  File \"d:\\Personal-Projects\\ML-Projects\\SMTA\\smteEnv\\lib\\site-packages\\urllib3\\connection.py\", line 200, in _new_conn\n",
      "    sock = connection.create_connection(\n",
      "  File \"d:\\Personal-Projects\\ML-Projects\\SMTA\\smteEnv\\lib\\site-packages\\urllib3\\util\\connection.py\", line 85, in create_connection\n",
      "    raise err\n",
      "  File \"d:\\Personal-Projects\\ML-Projects\\SMTA\\smteEnv\\lib\\site-packages\\urllib3\\util\\connection.py\", line 73, in create_connection\n",
      "    sock.connect(sa)\n",
      "TimeoutError: [WinError 10060] A connection attempt failed because the connected party did not properly respond after a period of time, or established connection failed because connected host has failed to respond\n",
      "\n",
      "The above exception was the direct cause of the following exception:\n",
      "\n",
      "Traceback (most recent call last):\n",
      "  File \"d:\\Personal-Projects\\ML-Projects\\SMTA\\smteEnv\\lib\\site-packages\\urllib3\\connectionpool.py\", line 790, in urlopen\n",
      "    response = self._make_request(\n",
      "  File \"d:\\Personal-Projects\\ML-Projects\\SMTA\\smteEnv\\lib\\site-packages\\urllib3\\connectionpool.py\", line 491, in _make_request\n",
      "    raise new_e\n",
      "  File \"d:\\Personal-Projects\\ML-Projects\\SMTA\\smteEnv\\lib\\site-packages\\urllib3\\connectionpool.py\", line 467, in _make_request\n",
      "    self._validate_conn(conn)\n",
      "  File \"d:\\Personal-Projects\\ML-Projects\\SMTA\\smteEnv\\lib\\site-packages\\urllib3\\connectionpool.py\", line 1092, in _validate_conn\n",
      "    conn.connect()\n",
      "  File \"d:\\Personal-Projects\\ML-Projects\\SMTA\\smteEnv\\lib\\site-packages\\urllib3\\connection.py\", line 604, in connect\n",
      "    self.sock = sock = self._new_conn()\n",
      "  File \"d:\\Personal-Projects\\ML-Projects\\SMTA\\smteEnv\\lib\\site-packages\\urllib3\\connection.py\", line 209, in _new_conn\n",
      "    raise ConnectTimeoutError(\n",
      "urllib3.exceptions.ConnectTimeoutError: (<urllib3.connection.HTTPSConnection object at 0x0000013E11E16080>, 'Connection to raw.githubusercontent.com timed out. (connect timeout=None)')\n",
      "\n",
      "The above exception was the direct cause of the following exception:\n",
      "\n",
      "Traceback (most recent call last):\n",
      "  File \"d:\\Personal-Projects\\ML-Projects\\SMTA\\smteEnv\\lib\\site-packages\\requests\\adapters.py\", line 486, in send\n",
      "    resp = conn.urlopen(\n",
      "  File \"d:\\Personal-Projects\\ML-Projects\\SMTA\\smteEnv\\lib\\site-packages\\urllib3\\connectionpool.py\", line 844, in urlopen\n",
      "    retries = retries.increment(\n",
      "  File \"d:\\Personal-Projects\\ML-Projects\\SMTA\\smteEnv\\lib\\site-packages\\urllib3\\util\\retry.py\", line 515, in increment\n",
      "    raise MaxRetryError(_pool, url, reason) from reason  # type: ignore[arg-type]\n",
      "urllib3.exceptions.MaxRetryError: HTTPSConnectionPool(host='raw.githubusercontent.com', port=443): Max retries exceeded with url: /explosion/spacy-models/master/compatibility.json (Caused by ConnectTimeoutError(<urllib3.connection.HTTPSConnection object at 0x0000013E11E16080>, 'Connection to raw.githubusercontent.com timed out. (connect timeout=None)'))\n",
      "\n",
      "During handling of the above exception, another exception occurred:\n",
      "\n",
      "Traceback (most recent call last):\n",
      "  File \"C:\\Users\\mohammedshuaib\\AppData\\Local\\Programs\\Python\\Python310\\lib\\runpy.py\", line 196, in _run_module_as_main\n",
      "    return _run_code(code, main_globals, None,\n",
      "  File \"C:\\Users\\mohammedshuaib\\AppData\\Local\\Programs\\Python\\Python310\\lib\\runpy.py\", line 86, in _run_code\n",
      "    exec(code, run_globals)\n",
      "  File \"d:\\Personal-Projects\\ML-Projects\\SMTA\\smteEnv\\lib\\site-packages\\spacy\\__main__.py\", line 4, in <module>\n",
      "    setup_cli()\n",
      "  File \"d:\\Personal-Projects\\ML-Projects\\SMTA\\smteEnv\\lib\\site-packages\\spacy\\cli\\_util.py\", line 74, in setup_cli\n",
      "    command(prog_name=COMMAND)\n",
      "  File \"d:\\Personal-Projects\\ML-Projects\\SMTA\\smteEnv\\lib\\site-packages\\click\\core.py\", line 1130, in __call__\n",
      "    return self.main(*args, **kwargs)\n",
      "  File \"d:\\Personal-Projects\\ML-Projects\\SMTA\\smteEnv\\lib\\site-packages\\typer\\core.py\", line 778, in main\n",
      "    return _main(\n",
      "  File \"d:\\Personal-Projects\\ML-Projects\\SMTA\\smteEnv\\lib\\site-packages\\typer\\core.py\", line 216, in _main\n",
      "    rv = self.invoke(ctx)\n",
      "  File \"d:\\Personal-Projects\\ML-Projects\\SMTA\\smteEnv\\lib\\site-packages\\click\\core.py\", line 1657, in invoke\n",
      "    return _process_result(sub_ctx.command.invoke(sub_ctx))\n",
      "  File \"d:\\Personal-Projects\\ML-Projects\\SMTA\\smteEnv\\lib\\site-packages\\click\\core.py\", line 1404, in invoke\n",
      "    return ctx.invoke(self.callback, **ctx.params)\n",
      "  File \"d:\\Personal-Projects\\ML-Projects\\SMTA\\smteEnv\\lib\\site-packages\\click\\core.py\", line 760, in invoke\n",
      "    return __callback(*args, **kwargs)\n",
      "  File \"d:\\Personal-Projects\\ML-Projects\\SMTA\\smteEnv\\lib\\site-packages\\typer\\main.py\", line 683, in wrapper\n",
      "    return callback(**use_params)  # type: ignore\n",
      "  File \"d:\\Personal-Projects\\ML-Projects\\SMTA\\smteEnv\\lib\\site-packages\\spacy\\cli\\download.py\", line 36, in download_cli\n",
      "    download(model, direct, sdist, *ctx.args)\n",
      "  File \"d:\\Personal-Projects\\ML-Projects\\SMTA\\smteEnv\\lib\\site-packages\\spacy\\cli\\download.py\", line 70, in download\n",
      "    compatibility = get_compatibility()\n",
      "  File \"d:\\Personal-Projects\\ML-Projects\\SMTA\\smteEnv\\lib\\site-packages\\spacy\\cli\\download.py\", line 94, in get_compatibility\n",
      "    r = requests.get(about.__compatibility__)\n",
      "  File \"d:\\Personal-Projects\\ML-Projects\\SMTA\\smteEnv\\lib\\site-packages\\requests\\api.py\", line 73, in get\n",
      "    return request(\"get\", url, params=params, **kwargs)\n",
      "  File \"d:\\Personal-Projects\\ML-Projects\\SMTA\\smteEnv\\lib\\site-packages\\requests\\api.py\", line 59, in request\n",
      "    return session.request(method=method, url=url, **kwargs)\n",
      "  File \"d:\\Personal-Projects\\ML-Projects\\SMTA\\smteEnv\\lib\\site-packages\\requests\\sessions.py\", line 589, in request\n",
      "    resp = self.send(prep, **send_kwargs)\n",
      "  File \"d:\\Personal-Projects\\ML-Projects\\SMTA\\smteEnv\\lib\\site-packages\\requests\\sessions.py\", line 703, in send\n",
      "    r = adapter.send(request, **kwargs)\n",
      "  File \"d:\\Personal-Projects\\ML-Projects\\SMTA\\smteEnv\\lib\\site-packages\\requests\\adapters.py\", line 507, in send\n",
      "    raise ConnectTimeout(e, request=request)\n",
      "requests.exceptions.ConnectTimeout: HTTPSConnectionPool(host='raw.githubusercontent.com', port=443): Max retries exceeded with url: /explosion/spacy-models/master/compatibility.json (Caused by ConnectTimeoutError(<urllib3.connection.HTTPSConnection object at 0x0000013E11E16080>, 'Connection to raw.githubusercontent.com timed out. (connect timeout=None)'))\n"
     ]
    }
   ],
   "source": [
    "# !pip install -U pip setuptools wheel\n",
    "# !pip install -U spacy\n",
    "!python -m spacy download en_core_web_sm"
   ]
  },
  {
   "cell_type": "code",
   "execution_count": 2,
   "metadata": {},
   "outputs": [
    {
     "name": "stdout",
     "output_type": "stream",
     "text": [
      "Collecting textblob\n",
      "  Using cached textblob-0.17.1-py2.py3-none-any.whl (636 kB)\n",
      "Collecting nltk>=3.1 (from textblob)\n",
      "  Using cached nltk-3.8.1-py3-none-any.whl (1.5 MB)\n",
      "Requirement already satisfied: click in d:\\personal-projects\\ml-projects\\smta\\smteenv\\lib\\site-packages (from nltk>=3.1->textblob) (8.1.3)\n",
      "Collecting joblib (from nltk>=3.1->textblob)\n",
      "  Using cached joblib-1.2.0-py3-none-any.whl (297 kB)\n",
      "Requirement already satisfied: regex>=2021.8.3 in d:\\personal-projects\\ml-projects\\smta\\smteenv\\lib\\site-packages (from nltk>=3.1->textblob) (2023.6.3)\n",
      "Requirement already satisfied: tqdm in d:\\personal-projects\\ml-projects\\smta\\smteenv\\lib\\site-packages (from nltk>=3.1->textblob) (4.65.0)\n",
      "Requirement already satisfied: colorama in d:\\personal-projects\\ml-projects\\smta\\smteenv\\lib\\site-packages (from click->nltk>=3.1->textblob) (0.4.6)\n",
      "Installing collected packages: joblib, nltk, textblob\n",
      "Successfully installed joblib-1.2.0 nltk-3.8.1 textblob-0.17.1\n"
     ]
    }
   ],
   "source": [
    "!pip install textblob"
   ]
  },
  {
   "cell_type": "code",
   "execution_count": 5,
   "metadata": {},
   "outputs": [
    {
     "ename": "OSError",
     "evalue": "[E050] Can't find model 'en_core_web_sm'. It doesn't seem to be a Python package or a valid path to a data directory.",
     "output_type": "error",
     "traceback": [
      "\u001b[1;31m---------------------------------------------------------------------------\u001b[0m",
      "\u001b[1;31mOSError\u001b[0m                                   Traceback (most recent call last)",
      "Cell \u001b[1;32mIn[5], line 3\u001b[0m\n\u001b[0;32m      1\u001b[0m \u001b[39m# Importing the required libraries\u001b[39;00m\n\u001b[0;32m      2\u001b[0m \u001b[39mimport\u001b[39;00m \u001b[39mspacy\u001b[39;00m\n\u001b[1;32m----> 3\u001b[0m sp \u001b[39m=\u001b[39m spacy\u001b[39m.\u001b[39;49mload(\u001b[39m\"\u001b[39;49m\u001b[39men_core_web_sm\u001b[39;49m\u001b[39m\"\u001b[39;49m)\n\u001b[0;32m      4\u001b[0m \u001b[39mfrom\u001b[39;00m \u001b[39mtextblob\u001b[39;00m \u001b[39mimport\u001b[39;00m TextBlob\n\u001b[0;32m      6\u001b[0m \u001b[39m# Creating a list of positive and negative sentences.\u001b[39;00m\n",
      "File \u001b[1;32md:\\Personal-Projects\\ML-Projects\\SMTA\\smteEnv\\lib\\site-packages\\spacy\\__init__.py:54\u001b[0m, in \u001b[0;36mload\u001b[1;34m(name, vocab, disable, enable, exclude, config)\u001b[0m\n\u001b[0;32m     30\u001b[0m \u001b[39mdef\u001b[39;00m \u001b[39mload\u001b[39m(\n\u001b[0;32m     31\u001b[0m     name: Union[\u001b[39mstr\u001b[39m, Path],\n\u001b[0;32m     32\u001b[0m     \u001b[39m*\u001b[39m,\n\u001b[1;32m   (...)\u001b[0m\n\u001b[0;32m     37\u001b[0m     config: Union[Dict[\u001b[39mstr\u001b[39m, Any], Config] \u001b[39m=\u001b[39m util\u001b[39m.\u001b[39mSimpleFrozenDict(),\n\u001b[0;32m     38\u001b[0m ) \u001b[39m-\u001b[39m\u001b[39m>\u001b[39m Language:\n\u001b[0;32m     39\u001b[0m \u001b[39m    \u001b[39m\u001b[39m\"\"\"Load a spaCy model from an installed package or a local path.\u001b[39;00m\n\u001b[0;32m     40\u001b[0m \n\u001b[0;32m     41\u001b[0m \u001b[39m    name (str): Package name or model path.\u001b[39;00m\n\u001b[1;32m   (...)\u001b[0m\n\u001b[0;32m     52\u001b[0m \u001b[39m    RETURNS (Language): The loaded nlp object.\u001b[39;00m\n\u001b[0;32m     53\u001b[0m \u001b[39m    \"\"\"\u001b[39;00m\n\u001b[1;32m---> 54\u001b[0m     \u001b[39mreturn\u001b[39;00m util\u001b[39m.\u001b[39;49mload_model(\n\u001b[0;32m     55\u001b[0m         name,\n\u001b[0;32m     56\u001b[0m         vocab\u001b[39m=\u001b[39;49mvocab,\n\u001b[0;32m     57\u001b[0m         disable\u001b[39m=\u001b[39;49mdisable,\n\u001b[0;32m     58\u001b[0m         enable\u001b[39m=\u001b[39;49menable,\n\u001b[0;32m     59\u001b[0m         exclude\u001b[39m=\u001b[39;49mexclude,\n\u001b[0;32m     60\u001b[0m         config\u001b[39m=\u001b[39;49mconfig,\n\u001b[0;32m     61\u001b[0m     )\n",
      "File \u001b[1;32md:\\Personal-Projects\\ML-Projects\\SMTA\\smteEnv\\lib\\site-packages\\spacy\\util.py:449\u001b[0m, in \u001b[0;36mload_model\u001b[1;34m(name, vocab, disable, enable, exclude, config)\u001b[0m\n\u001b[0;32m    447\u001b[0m \u001b[39mif\u001b[39;00m name \u001b[39min\u001b[39;00m OLD_MODEL_SHORTCUTS:\n\u001b[0;32m    448\u001b[0m     \u001b[39mraise\u001b[39;00m \u001b[39mIOError\u001b[39;00m(Errors\u001b[39m.\u001b[39mE941\u001b[39m.\u001b[39mformat(name\u001b[39m=\u001b[39mname, full\u001b[39m=\u001b[39mOLD_MODEL_SHORTCUTS[name]))  \u001b[39m# type: ignore[index]\u001b[39;00m\n\u001b[1;32m--> 449\u001b[0m \u001b[39mraise\u001b[39;00m \u001b[39mIOError\u001b[39;00m(Errors\u001b[39m.\u001b[39mE050\u001b[39m.\u001b[39mformat(name\u001b[39m=\u001b[39mname))\n",
      "\u001b[1;31mOSError\u001b[0m: [E050] Can't find model 'en_core_web_sm'. It doesn't seem to be a Python package or a valid path to a data directory."
     ]
    }
   ],
   "source": [
    "# Importing the required libraries\n",
    "import spacy\n",
    "sp = spacy.load(\"en_core_web_sm\")\n",
    "from textblob import TextBlob\n",
    "\n",
    "# Creating a list of positive and negative sentences.\n",
    "mixed_sen = [\n",
    "'This chocolate truffle cake is really tasty',\n",
    "'This party is amazing!',\n",
    "'My mom is the best!',\n",
    "'App response is very slow!'\n",
    "'The trip to India was very enjoyable'\n",
    "]\n",
    "\n",
    "# An empty list for obtaining the extracted aspects\n",
    "# from sentences.\n",
    "ext_aspects = []\n",
    "\n",
    "# Performing Aspect Extraction\n",
    "for sentence in mixed_sen:\n",
    "    important = sp(sentence)\n",
    "    descriptive_item = ''\n",
    "    target = ''\n",
    "    for token in important:\n",
    "        if token.dep_ == 'nsubj' and token.pos_ == 'NOUN':\n",
    "            target = token.text\n",
    "        if token.pos_ == 'ADJ':\n",
    "            added_terms = ''\n",
    "            for mini_token in token.children:\n",
    "                if mini_token.pos_ != 'ADV':\n",
    "                    continue\n",
    "                added_terms += mini_token.text + ' '\n",
    "            descriptive_item = added_terms + token.text\n",
    "    ext_aspects.append({'aspect': target,\n",
    "        'description': descriptive_item})\n",
    "\n",
    "print(\"ASPECT EXTRACTION\\n\")\n",
    "print(ext_aspects)\n",
    "\n",
    "\n",
    "for aspect in ext_aspects:\n",
    "    aspect['sentiment'] = TextBlob(aspect['description']).sentiment\n",
    "\n",
    "print(\"\\n\")\n",
    "print(\"SENTIMENT ASSOCIATION\\n\")\n",
    "print(ext_aspects)\n"
   ]
  },
  {
   "cell_type": "code",
   "execution_count": 11,
   "metadata": {},
   "outputs": [],
   "source": [
    "from textblob import TextBlob\n",
    "def extract_aspect_sentiment_pairs(text):\n",
    "    blob = TextBlob(text)\n",
    "    aspect_sentiment_pairs = []\n",
    "    for sentence in blob.sentences:\n",
    "        for noun_phrase in sentence.noun_phrases:\n",
    "            aspect = noun_phrase\n",
    "            sentiment = sentence.sentiment.polarity\n",
    "            aspect_sentiment_pairs.append((aspect, sentiment))\n",
    "    return aspect_sentiment_pairs"
   ]
  },
  {
   "cell_type": "code",
   "execution_count": 12,
   "metadata": {},
   "outputs": [],
   "source": [
    "sentences = [\n",
    "'This chocolate truffle cake is really tasty',\n",
    "'This party is amazing!',\n",
    "'My mom is the best!',\n",
    "'App response is very slow!'\n",
    "'The trip to India was very enjoyable'\n",
    "]"
   ]
  },
  {
   "cell_type": "code",
   "execution_count": 13,
   "metadata": {},
   "outputs": [
    {
     "name": "stdout",
     "output_type": "stream",
     "text": [
      "[('chocolate truffle cake', 0.2)]\n",
      "[]\n",
      "[]\n",
      "[('app', 0.42500000000000004), ('india', 0.42500000000000004)]\n"
     ]
    }
   ],
   "source": [
    "for sent in sentences:\n",
    "    result = extract_aspect_sentiment_pairs(sent)\n",
    "    print(result)"
   ]
  },
  {
   "cell_type": "code",
   "execution_count": null,
   "metadata": {},
   "outputs": [],
   "source": []
  }
 ],
 "metadata": {
  "kernelspec": {
   "display_name": "smteEnv",
   "language": "python",
   "name": "python3"
  },
  "language_info": {
   "codemirror_mode": {
    "name": "ipython",
    "version": 3
   },
   "file_extension": ".py",
   "mimetype": "text/x-python",
   "name": "python",
   "nbconvert_exporter": "python",
   "pygments_lexer": "ipython3",
   "version": "3.10.11"
  },
  "orig_nbformat": 4
 },
 "nbformat": 4,
 "nbformat_minor": 2
}
